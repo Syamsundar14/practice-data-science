{
 "cells": [
  {
   "cell_type": "code",
   "execution_count": 3,
   "id": "46fe7cd7",
   "metadata": {},
   "outputs": [
    {
     "name": "stdout",
     "output_type": "stream",
     "text": [
      "1231,Sheethal,9874512510,6/6/1985,Software developer,25000,Hyderbad,7,No\n",
      "1232,Sonu,7458213640,5/5/19\n"
     ]
    }
   ],
   "source": [
    "fy=open(\"F:/data science/DataSets-main/emp12.csv\",'r')\n",
    "st=fy.read(100)\n",
    "print(st)"
   ]
  },
  {
   "cell_type": "code",
   "execution_count": 4,
   "id": "ff002d6c",
   "metadata": {},
   "outputs": [
    {
     "name": "stdout",
     "output_type": "stream",
     "text": [
      "['1231,Sheethal,9874512510,6/6/1985,Software developer,25000,Hyderbad,7,No\\n', '1232,Sonu,7458213640,5/5/1995,Software tester,28000,Madhapur,8,No\\n', '1233,Sandeep,9550025123,3/6/1990,Software architect,100000,Gachibowli,7.5,No\\n', '1234,Manoj,9254762153,1/7/1990,system adminstrator,65000,Hitech city,8,No\\n', '1235,Prasanna,9949171267,6/10/1995,software analyst,15000,Jubliee hills,12,Yes\\n', '1236,Priyanka,7095724262,6/8/1995,tester,20000,Banjara Hills,9,No\\n', '1237,Shravanthi,9584672135,2/9/1995,Cloud analyst,28000,Dilsuknagar,7,No\\n', '1238,Yamini,8657215420,2/6/1995,HR Manager,19000,Dilsuknagar,8.5,No\\n', '1239,Chaitanya,9125467283,7/4/1994,Architect,25000,Paradise,11,Yes\\n', '1240,Leela Krishna,8542136571,2/3/1994,Software Tester,26000,Secunderabad,12,Yes\\n', '1241,Mahender,9676521477,4/5/1985,Developer,60000,ECIL,7,No\\n', '1242,Yelishetty Shankar,9959243211,4/6/1979,Manager,100000,LBNagar,13,Yes\\n', '1243,Swapna,9949343211,2/7/1982,Associate consultant,23000,LBNagar,8,No\\n', '1244,Nikhil,8019200557,4/8/1994,financial consultant,25000,Tarnaka,8,No\\n', '1245,Sai Kumar,9885662939,4/9/1986,HR Manager,30000,Suchitra,9,No\\n']\n"
     ]
    }
   ],
   "source": [
    "fy=open(\"F:\\data science\\DataSets-main\\emp12.csv\",'r')\n",
    "st=fy.readlines()\n",
    "print(st)"
   ]
  },
  {
   "cell_type": "code",
   "execution_count": 6,
   "id": "657b8095",
   "metadata": {},
   "outputs": [],
   "source": [
    "fy=open(\"F:\\data science\\DataSets-main\\e1122.csv\",'a')\n",
    "fy.write('this is first stmt\\n')\n",
    "fy.write('this is seconf stmt\\n')\n",
    "fy.write('this is 3 stmt\\n')\n",
    "fy.close()"
   ]
  },
  {
   "cell_type": "code",
   "execution_count": 10,
   "id": "c2137cd3",
   "metadata": {},
   "outputs": [
    {
     "name": "stdout",
     "output_type": "stream",
     "text": [
      "1231,Sheethal,9874512510,6/6/1985,Software developer,25000,Hyderbad,7,No\n",
      "\n",
      "1232,Sonu,7458213640,5/5/1995,Software tester,28000,Madhapur,8,No\n",
      "\n",
      "1233,Sandeep,9550025123,3/6/1990,Software architect,100000,Gachibowli,7.5,No\n",
      "\n",
      "1234,Manoj,9254762153,1/7/1990,system adminstrator,65000,Hitech city,8,No\n",
      "\n",
      "1235,Prasanna,9949171267,6/10/1995,software analyst,15000,Jubliee hills,12,Yes\n",
      "\n",
      "1236,Priyanka,7095724262,6/8/1995,tester,20000,Banjara Hills,9,No\n",
      "\n",
      "1237,Shravanthi,9584672135,2/9/1995,Cloud analyst,28000,Dilsuknagar,7,No\n",
      "\n",
      "1238,Yamini,8657215420,2/6/1995,HR Manager,19000,Dilsuknagar,8.5,No\n",
      "\n",
      "1239,Chaitanya,9125467283,7/4/1994,Architect,25000,Paradise,11,Yes\n",
      "\n",
      "1240,Leela Krishna,8542136571,2/3/1994,Software Tester,26000,Secunderabad,12,Yes\n",
      "\n",
      "1241,Mahender,9676521477,4/5/1985,Developer,60000,ECIL,7,No\n",
      "\n",
      "1242,Yelishetty Shankar,9959243211,4/6/1979,Manager,100000,LBNagar,13,Yes\n",
      "\n",
      "1243,Swapna,9949343211,2/7/1982,Associate consultant,23000,LBNagar,8,No\n",
      "\n",
      "1244,Nikhil,8019200557,4/8/1994,financial consultant,25000,Tarnaka,8,No\n",
      "\n",
      "1245,Sai Kumar,9885662939,4/9/1986,HR Manager,30000,Suchitra,9,No\n",
      "\n"
     ]
    }
   ],
   "source": [
    "with open(\"F:\\data science\\DataSets-main\\emp12.csv\",'r') as fp:\n",
    "    for line in fp:\n",
    "        print(line)"
   ]
  },
  {
   "cell_type": "code",
   "execution_count": 11,
   "id": "b8b70e20",
   "metadata": {},
   "outputs": [
    {
     "data": {
      "text/plain": [
       "'C:\\\\Users\\\\syamb'"
      ]
     },
     "execution_count": 11,
     "metadata": {},
     "output_type": "execute_result"
    }
   ],
   "source": [
    "pwd"
   ]
  },
  {
   "cell_type": "code",
   "execution_count": 12,
   "id": "6b6e0690",
   "metadata": {},
   "outputs": [
    {
     "ename": "NameError",
     "evalue": "name 'pi' is not defined",
     "output_type": "error",
     "traceback": [
      "\u001b[1;31m---------------------------------------------------------------------------\u001b[0m",
      "\u001b[1;31mNameError\u001b[0m                                 Traceback (most recent call last)",
      "Cell \u001b[1;32mIn[12], line 1\u001b[0m\n\u001b[1;32m----> 1\u001b[0m pi\n",
      "\u001b[1;31mNameError\u001b[0m: name 'pi' is not defined"
     ]
    }
   ],
   "source": [
    "pi"
   ]
  },
  {
   "cell_type": "code",
   "execution_count": 13,
   "id": "c5896cd2",
   "metadata": {},
   "outputs": [
    {
     "data": {
      "text/plain": [
       "88"
      ]
     },
     "execution_count": 13,
     "metadata": {},
     "output_type": "execute_result"
    }
   ],
   "source": [
    "25+63"
   ]
  },
  {
   "cell_type": "code",
   "execution_count": 14,
   "id": "c8a89e60",
   "metadata": {},
   "outputs": [
    {
     "ename": "NameError",
     "evalue": "name 'sin' is not defined",
     "output_type": "error",
     "traceback": [
      "\u001b[1;31m---------------------------------------------------------------------------\u001b[0m",
      "\u001b[1;31mNameError\u001b[0m                                 Traceback (most recent call last)",
      "Cell \u001b[1;32mIn[14], line 1\u001b[0m\n\u001b[1;32m----> 1\u001b[0m sin(\u001b[38;5;241m45\u001b[39m)\n",
      "\u001b[1;31mNameError\u001b[0m: name 'sin' is not defined"
     ]
    }
   ],
   "source": [
    "sin(45)"
   ]
  },
  {
   "cell_type": "code",
   "execution_count": 16,
   "id": "e8038281",
   "metadata": {},
   "outputs": [],
   "source": [
    "import math"
   ]
  },
  {
   "cell_type": "code",
   "execution_count": 18,
   "id": "7a289d59",
   "metadata": {},
   "outputs": [
    {
     "data": {
      "text/plain": [
       "0.8509035245341184"
      ]
     },
     "execution_count": 18,
     "metadata": {},
     "output_type": "execute_result"
    }
   ],
   "source": [
    "math.sin(45)"
   ]
  },
  {
   "cell_type": "code",
   "execution_count": 19,
   "id": "239bf871",
   "metadata": {},
   "outputs": [
    {
     "data": {
      "text/plain": [
       "3.141592653589793"
      ]
     },
     "execution_count": 19,
     "metadata": {},
     "output_type": "execute_result"
    }
   ],
   "source": [
    "math.pi"
   ]
  },
  {
   "cell_type": "code",
   "execution_count": 24,
   "id": "9af8aa8c",
   "metadata": {},
   "outputs": [],
   "source": [
    "import datetime"
   ]
  },
  {
   "cell_type": "code",
   "execution_count": 26,
   "id": "b8689b4c",
   "metadata": {},
   "outputs": [
    {
     "data": {
      "text/plain": [
       "datetime.datetime(2024, 11, 14, 16, 15, 45, 449260)"
      ]
     },
     "execution_count": 26,
     "metadata": {},
     "output_type": "execute_result"
    }
   ],
   "source": [
    "datetime.datetime.now()"
   ]
  },
  {
   "cell_type": "code",
   "execution_count": 27,
   "id": "842bcdfe",
   "metadata": {},
   "outputs": [
    {
     "ename": "AttributeError",
     "evalue": "module 'datetime' has no attribute 'now'",
     "output_type": "error",
     "traceback": [
      "\u001b[1;31m---------------------------------------------------------------------------\u001b[0m",
      "\u001b[1;31mAttributeError\u001b[0m                            Traceback (most recent call last)",
      "Cell \u001b[1;32mIn[27], line 1\u001b[0m\n\u001b[1;32m----> 1\u001b[0m datetime\u001b[38;5;241m.\u001b[39mnow()\n",
      "\u001b[1;31mAttributeError\u001b[0m: module 'datetime' has no attribute 'now'"
     ]
    }
   ],
   "source": [
    "datetime.now()"
   ]
  },
  {
   "cell_type": "code",
   "execution_count": null,
   "id": "2594c72f",
   "metadata": {},
   "outputs": [],
   "source": []
  },
  {
   "cell_type": "code",
   "execution_count": null,
   "id": "cb45ff14",
   "metadata": {},
   "outputs": [],
   "source": []
  },
  {
   "cell_type": "code",
   "execution_count": 23,
   "id": "38250f29",
   "metadata": {},
   "outputs": [
    {
     "ename": "AttributeError",
     "evalue": "module 'datetime' has no attribute 'now'",
     "output_type": "error",
     "traceback": [
      "\u001b[1;31m---------------------------------------------------------------------------\u001b[0m",
      "\u001b[1;31mAttributeError\u001b[0m                            Traceback (most recent call last)",
      "Cell \u001b[1;32mIn[23], line 1\u001b[0m\n\u001b[1;32m----> 1\u001b[0m datetime\u001b[38;5;241m.\u001b[39mnow()\n",
      "\u001b[1;31mAttributeError\u001b[0m: module 'datetime' has no attribute 'now'"
     ]
    }
   ],
   "source": [
    "datetime.now()"
   ]
  },
  {
   "cell_type": "code",
   "execution_count": 28,
   "id": "f20f671d",
   "metadata": {},
   "outputs": [],
   "source": [
    "import numpy as np"
   ]
  },
  {
   "cell_type": "code",
   "execution_count": 29,
   "id": "69cb5a63",
   "metadata": {},
   "outputs": [],
   "source": [
    "import pandas as pd"
   ]
  },
  {
   "cell_type": "code",
   "execution_count": 31,
   "id": "207bcbf5",
   "metadata": {},
   "outputs": [
    {
     "ename": "ModuleNotFoundError",
     "evalue": "No module named 'matlabs'",
     "output_type": "error",
     "traceback": [
      "\u001b[1;31m---------------------------------------------------------------------------\u001b[0m",
      "\u001b[1;31mModuleNotFoundError\u001b[0m                       Traceback (most recent call last)",
      "Cell \u001b[1;32mIn[31], line 1\u001b[0m\n\u001b[1;32m----> 1\u001b[0m \u001b[38;5;28;01mimport\u001b[39;00m \u001b[38;5;21;01mmatlabs\u001b[39;00m \u001b[38;5;28;01mas\u001b[39;00m \u001b[38;5;21;01mmt\u001b[39;00m\n",
      "\u001b[1;31mModuleNotFoundError\u001b[0m: No module named 'matlabs'"
     ]
    }
   ],
   "source": [
    "import matlabs as mt"
   ]
  },
  {
   "cell_type": "code",
   "execution_count": 32,
   "id": "75c61121",
   "metadata": {},
   "outputs": [
    {
     "name": "stdout",
     "output_type": "stream",
     "text": [
      "04:20:01\n",
      "hour :  4\n",
      "minutes :  20\n",
      "seconds :  1\n"
     ]
    }
   ],
   "source": [
    "import datetime as t\n",
    "t=datetime.time(4,20,1)\n",
    "print(t)\n",
    "print('hour : ',t.hour)\n",
    "print('minutes : ',t.minute)\n",
    "print('seconds : ',t.second)"
   ]
  },
  {
   "cell_type": "code",
   "execution_count": 34,
   "id": "74defce2",
   "metadata": {},
   "outputs": [
    {
     "name": "stdout",
     "output_type": "stream",
     "text": [
      "2024-11-14\n"
     ]
    }
   ],
   "source": [
    "today=datetime.date.today()\n",
    "print(today)"
   ]
  },
  {
   "cell_type": "code",
   "execution_count": 37,
   "id": "7115b075",
   "metadata": {},
   "outputs": [
    {
     "name": "stdout",
     "output_type": "stream",
     "text": [
      "2024-11-14\n",
      "ctime :  Thu Nov 14 00:00:00 2024\n",
      "year :  2024\n",
      "month :  11\n",
      "day :  14\n"
     ]
    }
   ],
   "source": [
    "today=datetime.date.today()\n",
    "print(today)\n",
    "print('ctime : ',today.ctime())\n",
    "print('year : ',today.year)\n",
    "print('month : ',today.month)\n",
    "print('day : ',today.day)"
   ]
  },
  {
   "cell_type": "code",
   "execution_count": 38,
   "id": "da5ddb9b",
   "metadata": {},
   "outputs": [],
   "source": [
    "import random"
   ]
  },
  {
   "cell_type": "code",
   "execution_count": 39,
   "id": "e498c420",
   "metadata": {},
   "outputs": [],
   "source": [
    "import math as m"
   ]
  },
  {
   "cell_type": "code",
   "execution_count": 40,
   "id": "46b50373",
   "metadata": {},
   "outputs": [
    {
     "name": "stdout",
     "output_type": "stream",
     "text": [
      "3.141592653589793\n"
     ]
    }
   ],
   "source": [
    "print(math.pi)"
   ]
  },
  {
   "cell_type": "code",
   "execution_count": 41,
   "id": "d6172467",
   "metadata": {},
   "outputs": [
    {
     "name": "stdout",
     "output_type": "stream",
     "text": [
      "11\n"
     ]
    }
   ],
   "source": [
    "print(random.randint(10,15))"
   ]
  },
  {
   "cell_type": "code",
   "execution_count": 42,
   "id": "761fa53a",
   "metadata": {},
   "outputs": [
    {
     "name": "stdout",
     "output_type": "stream",
     "text": [
      "3.141592653589793\n",
      "0.8509035245341184\n",
      "-45.18308791052113\n"
     ]
    }
   ],
   "source": [
    "from math import sin,cos,tan,pi\n",
    "print(pi)\n",
    "print(sin(45))\n",
    "print(tan(55))"
   ]
  },
  {
   "cell_type": "code",
   "execution_count": null,
   "id": "888c259c",
   "metadata": {},
   "outputs": [],
   "source": [
    "import csv\n",
    "data=np.loadtxt(\"\")"
   ]
  },
  {
   "cell_type": "code",
   "execution_count": 47,
   "id": "90efcd73",
   "metadata": {},
   "outputs": [],
   "source": [
    "import matplotlib as plt\n",
    "\n",
    "\n"
   ]
  },
  {
   "cell_type": "code",
   "execution_count": 48,
   "id": "2904711f",
   "metadata": {},
   "outputs": [
    {
     "name": "stdout",
     "output_type": "stream",
     "text": [
      "3.7.2\n"
     ]
    }
   ],
   "source": [
    "print(matplotlib.__version__)"
   ]
  },
  {
   "cell_type": "code",
   "execution_count": 49,
   "id": "b43346dd",
   "metadata": {},
   "outputs": [],
   "source": [
    "import numpy as pd"
   ]
  },
  {
   "cell_type": "code",
   "execution_count": 51,
   "id": "2c8df107",
   "metadata": {},
   "outputs": [
    {
     "ename": "AttributeError",
     "evalue": "module 'matplotlib' has no attribute 'plot'",
     "output_type": "error",
     "traceback": [
      "\u001b[1;31m---------------------------------------------------------------------------\u001b[0m",
      "\u001b[1;31mAttributeError\u001b[0m                            Traceback (most recent call last)",
      "Cell \u001b[1;32mIn[51], line 3\u001b[0m\n\u001b[0;32m      1\u001b[0m xpoints\u001b[38;5;241m=\u001b[39mnp\u001b[38;5;241m.\u001b[39marray([\u001b[38;5;241m0\u001b[39m,\u001b[38;5;241m1\u001b[39m,\u001b[38;5;241m2\u001b[39m,\u001b[38;5;241m3\u001b[39m,\u001b[38;5;241m4\u001b[39m,\u001b[38;5;241m5\u001b[39m,\u001b[38;5;241m6\u001b[39m])\n\u001b[0;32m      2\u001b[0m ypoints\u001b[38;5;241m=\u001b[39mnp\u001b[38;5;241m.\u001b[39marray([\u001b[38;5;241m0\u001b[39m,\u001b[38;5;241m1\u001b[39m,\u001b[38;5;241m4\u001b[39m,\u001b[38;5;241m9\u001b[39m,\u001b[38;5;241m16\u001b[39m,\u001b[38;5;241m25\u001b[39m,\u001b[38;5;241m36\u001b[39m])\n\u001b[1;32m----> 3\u001b[0m plt\u001b[38;5;241m.\u001b[39mplot(xpoints,ypoints)\n\u001b[0;32m      4\u001b[0m plt\u001b[38;5;241m.\u001b[39mshow()\n",
      "File \u001b[1;32m~\\AppData\\Roaming\\Python\\Python311\\site-packages\\matplotlib\\_api\\__init__.py:226\u001b[0m, in \u001b[0;36mcaching_module_getattr.<locals>.__getattr__\u001b[1;34m(name)\u001b[0m\n\u001b[0;32m    224\u001b[0m \u001b[38;5;28;01mif\u001b[39;00m name \u001b[38;5;129;01min\u001b[39;00m props:\n\u001b[0;32m    225\u001b[0m     \u001b[38;5;28;01mreturn\u001b[39;00m props[name]\u001b[38;5;241m.\u001b[39m\u001b[38;5;21m__get__\u001b[39m(instance)\n\u001b[1;32m--> 226\u001b[0m \u001b[38;5;28;01mraise\u001b[39;00m \u001b[38;5;167;01mAttributeError\u001b[39;00m(\n\u001b[0;32m    227\u001b[0m     \u001b[38;5;124mf\u001b[39m\u001b[38;5;124m\"\u001b[39m\u001b[38;5;124mmodule \u001b[39m\u001b[38;5;132;01m{\u001b[39;00m\u001b[38;5;28mcls\u001b[39m\u001b[38;5;241m.\u001b[39m\u001b[38;5;18m__module__\u001b[39m\u001b[38;5;132;01m!r}\u001b[39;00m\u001b[38;5;124m has no attribute \u001b[39m\u001b[38;5;132;01m{\u001b[39;00mname\u001b[38;5;132;01m!r}\u001b[39;00m\u001b[38;5;124m\"\u001b[39m)\n",
      "\u001b[1;31mAttributeError\u001b[0m: module 'matplotlib' has no attribute 'plot'"
     ]
    }
   ],
   "source": [
    "xpoints=np.array([0,1,2,3,4,5,6])\n",
    "ypoints=np.array([0,1,4,9,16,25,36])\n",
    "plt.plot(xpoints,ypoints)\n",
    "plt.show()"
   ]
  },
  {
   "cell_type": "code",
   "execution_count": null,
   "id": "92136dbe",
   "metadata": {},
   "outputs": [],
   "source": []
  },
  {
   "cell_type": "code",
   "execution_count": null,
   "id": "53b692e1",
   "metadata": {},
   "outputs": [],
   "source": []
  },
  {
   "cell_type": "code",
   "execution_count": 45,
   "id": "09fe8027",
   "metadata": {},
   "outputs": [
    {
     "name": "stdout",
     "output_type": "stream",
     "text": [
      "3.7.2\n"
     ]
    }
   ],
   "source": [
    "print(matplotlib.__version__)"
   ]
  },
  {
   "cell_type": "code",
   "execution_count": 46,
   "id": "6320b995",
   "metadata": {},
   "outputs": [],
   "source": [
    "import numpy as pd\n"
   ]
  },
  {
   "cell_type": "code",
   "execution_count": 50,
   "id": "bc3b79cd",
   "metadata": {},
   "outputs": [
    {
     "ename": "AttributeError",
     "evalue": "module 'matplotlib' has no attribute 'plot'",
     "output_type": "error",
     "traceback": [
      "\u001b[1;31m---------------------------------------------------------------------------\u001b[0m",
      "\u001b[1;31mAttributeError\u001b[0m                            Traceback (most recent call last)",
      "Cell \u001b[1;32mIn[50], line 3\u001b[0m\n\u001b[0;32m      1\u001b[0m xpoints\u001b[38;5;241m=\u001b[39mnp\u001b[38;5;241m.\u001b[39marray([\u001b[38;5;241m0\u001b[39m,\u001b[38;5;241m1\u001b[39m,\u001b[38;5;241m2\u001b[39m,\u001b[38;5;241m3\u001b[39m,\u001b[38;5;241m4\u001b[39m,\u001b[38;5;241m5\u001b[39m,\u001b[38;5;241m6\u001b[39m])\n\u001b[0;32m      2\u001b[0m ypoints\u001b[38;5;241m=\u001b[39mnp\u001b[38;5;241m.\u001b[39marray([\u001b[38;5;241m0\u001b[39m,\u001b[38;5;241m1\u001b[39m,\u001b[38;5;241m4\u001b[39m,\u001b[38;5;241m9\u001b[39m,\u001b[38;5;241m16\u001b[39m,\u001b[38;5;241m25\u001b[39m,\u001b[38;5;241m36\u001b[39m])\n\u001b[1;32m----> 3\u001b[0m plt\u001b[38;5;241m.\u001b[39mplot(xpoints,ypoints)\n\u001b[0;32m      4\u001b[0m plt\u001b[38;5;241m.\u001b[39mshow()\n",
      "File \u001b[1;32m~\\AppData\\Roaming\\Python\\Python311\\site-packages\\matplotlib\\_api\\__init__.py:226\u001b[0m, in \u001b[0;36mcaching_module_getattr.<locals>.__getattr__\u001b[1;34m(name)\u001b[0m\n\u001b[0;32m    224\u001b[0m \u001b[38;5;28;01mif\u001b[39;00m name \u001b[38;5;129;01min\u001b[39;00m props:\n\u001b[0;32m    225\u001b[0m     \u001b[38;5;28;01mreturn\u001b[39;00m props[name]\u001b[38;5;241m.\u001b[39m\u001b[38;5;21m__get__\u001b[39m(instance)\n\u001b[1;32m--> 226\u001b[0m \u001b[38;5;28;01mraise\u001b[39;00m \u001b[38;5;167;01mAttributeError\u001b[39;00m(\n\u001b[0;32m    227\u001b[0m     \u001b[38;5;124mf\u001b[39m\u001b[38;5;124m\"\u001b[39m\u001b[38;5;124mmodule \u001b[39m\u001b[38;5;132;01m{\u001b[39;00m\u001b[38;5;28mcls\u001b[39m\u001b[38;5;241m.\u001b[39m\u001b[38;5;18m__module__\u001b[39m\u001b[38;5;132;01m!r}\u001b[39;00m\u001b[38;5;124m has no attribute \u001b[39m\u001b[38;5;132;01m{\u001b[39;00mname\u001b[38;5;132;01m!r}\u001b[39;00m\u001b[38;5;124m\"\u001b[39m)\n",
      "\u001b[1;31mAttributeError\u001b[0m: module 'matplotlib' has no attribute 'plot'"
     ]
    }
   ],
   "source": [
    "xpoints=np.array([0,1,2,3,4,5,6])\n",
    "ypoints=np.array([0,1,4,9,16,25,36])\n",
    "plt.plot(xpoints,ypoints)\n",
    "plt.show()"
   ]
  },
  {
   "cell_type": "code",
   "execution_count": 52,
   "id": "529b2aee",
   "metadata": {},
   "outputs": [
    {
     "name": "stdout",
     "output_type": "stream",
     "text": [
      "3.7.2\n"
     ]
    }
   ],
   "source": [
    "import matplotlib.pyplot as plt\n",
    "import numpy as np\n",
    "import matplotlib\n",
    "print(matplotlib.__version__)"
   ]
  },
  {
   "cell_type": "code",
   "execution_count": 53,
   "id": "84889fd9",
   "metadata": {},
   "outputs": [
    {
     "data": {
      "image/png": "[encoded data removed]",
      "text/plain": [
       "<Figure size 640x480 with 1 Axes>"
      ]
     },
     "metadata": {},
     "output_type": "display_data"
    }
   ],
   "source": [
    "xpoints=np.array([0,1,2,3,4,5,6])\n",
    "ypoints=np.array([0,1,4,9,16,25,36])\n",
    "plt.plot(xpoints,ypoints)\n",
    "plt.show()"
   ]
  },
  {
   "cell_type": "code",
   "execution_count": 58,
   "id": "91df32ed",
   "metadata": {},
   "outputs": [
    {
     "data": {
      "image/png": "[encoded data removed]",
      "text/plain": [
       "<Figure size 640x480 with 1 Axes>"
      ]
     },
     "metadata": {},
     "output_type": "display_data"
    }
   ],
   "source": [
    "xpoints=np.array([0,1,2,3,4,5,6])\n",
    "ypoints=np.array([0,1,4,9,16,25,36])\n",
    "plt.plot(xpoints,ypoints,'mD')\n",
    "plt.show()"
   ]
  },
  {
   "cell_type": "code",
   "execution_count": 60,
   "id": "7782a6dc",
   "metadata": {},
   "outputs": [
    {
     "data": {
      "image/png": "[encoded data removed]",
      "text/plain": [
       "<Figure size 640x480 with 1 Axes>"
      ]
     },
     "metadata": {},
     "output_type": "display_data"
    }
   ],
   "source": [
    "x=np.linspace(0,10,6)\n",
    "#y=np.linespace(0,10)\n",
    "y=x**2\n",
    "plt.plot(x,y)\n",
    "plt.show()"
   ]
  },
  {
   "cell_type": "code",
   "execution_count": 61,
   "id": "c104fa4c",
   "metadata": {},
   "outputs": [
    {
     "data": {
      "text/plain": [
       "array([ 0.,  2.,  4.,  6.,  8., 10.])"
      ]
     },
     "execution_count": 61,
     "metadata": {},
     "output_type": "execute_result"
    }
   ],
   "source": [
    "x"
   ]
  },
  {
   "cell_type": "code",
   "execution_count": 65,
   "id": "8bcc3533",
   "metadata": {},
   "outputs": [
    {
     "data": {
      "text/plain": [
       "[<matplotlib.lines.Line2D at 0x2802e9e4c10>]"
      ]
     },
     "execution_count": 65,
     "metadata": {},
     "output_type": "execute_result"
    },
    {
     "data": {
      "image/png": "[encoded data removed]",
      "text/plain": [
       "<Figure size 640x480 with 1 Axes>"
      ]
     },
     "metadata": {},
     "output_type": "display_data"
    }
   ],
   "source": [
    "plt.plot(x,y,color='gray',linestyle=':')"
   ]
  },
  {
   "cell_type": "code",
   "execution_count": 67,
   "id": "2b118887",
   "metadata": {},
   "outputs": [
    {
     "data": {
      "image/png": "[encoded data removed]",
      "text/plain": [
       "<Figure size 640x480 with 1 Axes>"
      ]
     },
     "metadata": {},
     "output_type": "display_data"
    }
   ],
   "source": [
    "y1=np.array([3,8,1,10])\n",
    "y2=np.array([6,2,7,11])\n",
    "plt.plot(y1,'*')\n",
    "plt.plot(y2)\n",
    "plt.show()"
   ]
  },
  {
   "cell_type": "code",
   "execution_count": 72,
   "id": "d40a0407",
   "metadata": {},
   "outputs": [
    {
     "data": {
      "image/png": "[encoded data removed]",
      "text/plain": [
       "<Figure size 640x480 with 4 Axes>"
      ]
     },
     "metadata": {},
     "output_type": "display_data"
    }
   ],
   "source": [
    "x=np.linspace(0,10,6)\n",
    "y=x**2\n",
    "plt.subplot(2,2,1)\n",
    "plt.plot(x,y,'r*')\n",
    "\n",
    "plt.subplot(2,2,2)\n",
    "plt.plot(y,x,'g>')\n",
    "\n",
    "plt.subplot(2,2,3)\n",
    "plt.plot(x,y,'yo')\n",
    "\n",
    "plt.subplot(2,2,4)\n",
    "plt.plot(y,x,'b<')\n",
    "\n",
    "plt.show()"
   ]
  },
  {
   "cell_type": "code",
   "execution_count": 73,
   "id": "51f9843f",
   "metadata": {},
   "outputs": [],
   "source": [
    "x=np.linspace(0,5,11)\n",
    "y=x**2"
   ]
  },
  {
   "cell_type": "code",
   "execution_count": 74,
   "id": "89b2e519",
   "metadata": {},
   "outputs": [
    {
     "data": {
      "text/plain": [
       "Text(0.5, 1.0, 'smaller plot')"
      ]
     },
     "execution_count": 74,
     "metadata": {},
     "output_type": "execute_result"
    },
    {
     "data": {
      "image/png": "[encoded data removed]",
      "text/plain": [
       "<Figure size 640x480 with 2 Axes>"
      ]
     },
     "metadata": {},
     "output_type": "display_data"
    }
   ],
   "source": [
    "f=plt.figure()\n",
    "a1=f.add_axes([0.1,0.1,0.8,0.8])\n",
    "a2=f.add_axes([0.2,0.5,0.4,0.3])\n",
    "\n",
    "a1.plot(x,y)\n",
    "a1.set_title('larger plot')\n",
    "\n",
    "a2.plot(y,x)\n",
    "a2.set_title('smaller plot')"
   ]
  },
  {
   "cell_type": "code",
   "execution_count": 76,
   "id": "8951bcbb",
   "metadata": {},
   "outputs": [
    {
     "data": {
      "text/plain": [
       "[<matplotlib.lines.Line2D at 0x2802e8cf610>]"
      ]
     },
     "execution_count": 76,
     "metadata": {},
     "output_type": "execute_result"
    },
    {
     "data": {
      "text/plain": [
       "<Figure size 640x480 with 0 Axes>"
      ]
     },
     "metadata": {},
     "output_type": "display_data"
    },
    {
     "data": {
      "image/png": "[encoded data removed]",
      "text/plain": [
       "<Figure size 640x480 with 6 Axes>"
      ]
     },
     "metadata": {},
     "output_type": "display_data"
    }
   ],
   "source": [
    "f=plt.figure()\n",
    "f,a=plt.subplots(nrows=2,ncols=3)\n",
    "plt.subplot(2,3,1)\n",
    "plt.plot(x,y,'ro')\n",
    "\n",
    "plt.subplot(2,3,2)\n",
    "plt.plot(y,x,'y*')\n",
    "\n",
    "plt.subplot(2,3,3)\n",
    "plt.plot(x,y,'ro')\n",
    "\n",
    "plt.subplot(2,3,4)\n",
    "plt.plot(y,x,'y*')\n",
    "\n",
    "plt.subplot(2,3,5)\n",
    "plt.plot(x,y,'ro')\n",
    "\n",
    "plt.subplot(2,3,6)\n",
    "plt.plot(y,x,'y*')"
   ]
  },
  {
   "cell_type": "code",
   "execution_count": 78,
   "id": "7a407279",
   "metadata": {},
   "outputs": [
    {
     "data": {
      "text/plain": [
       "[<matplotlib.lines.Line2D at 0x2802eb03290>]"
      ]
     },
     "execution_count": 78,
     "metadata": {},
     "output_type": "execute_result"
    },
    {
     "data": {
      "image/png": "[encoded data removed]",
      "text/plain": [
       "<Figure size 640x480 with 1 Axes>"
      ]
     },
     "metadata": {},
     "output_type": "display_data"
    }
   ],
   "source": [
    "f=plt.figure()\n",
    "ax=f.add_axes([0,0,1,1])\n",
    "ax.plot(x,y,color='purple',lw=1,ls='-',marker='o',markersize=20,markerfacecolor='yellow',markeredgewidth=3,markeredgecolor='black')"
   ]
  },
  {
   "cell_type": "code",
   "execution_count": 79,
   "id": "d2500e59",
   "metadata": {},
   "outputs": [],
   "source": [
    "#pandas\n",
    "import pandas as pd"
   ]
  },
  {
   "cell_type": "code",
   "execution_count": 84,
   "id": "70302cff",
   "metadata": {},
   "outputs": [],
   "source": [
    "labels=['a','b','c','d']\n",
    "my_data=[10,20,30,40]\n",
    "arr=np.array(my_data)\n",
    "d={'e':50,'f':60,'g':70,'h':80}"
   ]
  },
  {
   "cell_type": "code",
   "execution_count": 85,
   "id": "a87af709",
   "metadata": {},
   "outputs": [
    {
     "data": {
      "text/plain": [
       "0    10\n",
       "1    20\n",
       "2    30\n",
       "3    40\n",
       "dtype: int64"
      ]
     },
     "execution_count": 85,
     "metadata": {},
     "output_type": "execute_result"
    }
   ],
   "source": [
    "pd.Series(data=my_data)"
   ]
  },
  {
   "cell_type": "code",
   "execution_count": 87,
   "id": "0c583e01",
   "metadata": {},
   "outputs": [
    {
     "data": {
      "text/plain": [
       "a    10\n",
       "b    20\n",
       "c    30\n",
       "d    40\n",
       "dtype: int64"
      ]
     },
     "execution_count": 87,
     "metadata": {},
     "output_type": "execute_result"
    }
   ],
   "source": [
    "pd.Series(data=my_data,index=labels)"
   ]
  },
  {
   "cell_type": "code",
   "execution_count": 88,
   "id": "4d569203",
   "metadata": {},
   "outputs": [
    {
     "data": {
      "text/plain": [
       "a    10\n",
       "b    20\n",
       "c    30\n",
       "d    40\n",
       "dtype: int64"
      ]
     },
     "execution_count": 88,
     "metadata": {},
     "output_type": "execute_result"
    }
   ],
   "source": [
    "pd.Series(my_data,labels)"
   ]
  },
  {
   "cell_type": "code",
   "execution_count": 89,
   "id": "9d0c26a7",
   "metadata": {},
   "outputs": [
    {
     "data": {
      "text/plain": [
       "a    10\n",
       "b    20\n",
       "c    30\n",
       "d    40\n",
       "dtype: int32"
      ]
     },
     "execution_count": 89,
     "metadata": {},
     "output_type": "execute_result"
    }
   ],
   "source": [
    "pd.Series(arr,labels)"
   ]
  },
  {
   "cell_type": "code",
   "execution_count": 90,
   "id": "367ac839",
   "metadata": {},
   "outputs": [
    {
     "data": {
      "text/plain": [
       "e    50\n",
       "f    60\n",
       "g    70\n",
       "h    80\n",
       "dtype: int64"
      ]
     },
     "execution_count": 90,
     "metadata": {},
     "output_type": "execute_result"
    }
   ],
   "source": [
    "pd.Series(d)"
   ]
  },
  {
   "cell_type": "code",
   "execution_count": 91,
   "id": "b1b8f22a",
   "metadata": {},
   "outputs": [],
   "source": [
    "se1=pd.Series([1,2,3,4],['usa','ger','ussr','japan'])"
   ]
  },
  {
   "cell_type": "code",
   "execution_count": 92,
   "id": "d426c40b",
   "metadata": {},
   "outputs": [
    {
     "data": {
      "text/plain": [
       "usa      1\n",
       "ger      2\n",
       "ussr     3\n",
       "japan    4\n",
       "dtype: int64"
      ]
     },
     "execution_count": 92,
     "metadata": {},
     "output_type": "execute_result"
    }
   ],
   "source": [
    "se1"
   ]
  },
  {
   "cell_type": "code",
   "execution_count": 93,
   "id": "0c82eda5",
   "metadata": {},
   "outputs": [
    {
     "data": {
      "text/plain": [
       "usa      1\n",
       "ger      2\n",
       "italy    3\n",
       "japan    4\n",
       "dtype: int64"
      ]
     },
     "execution_count": 93,
     "metadata": {},
     "output_type": "execute_result"
    }
   ],
   "source": [
    "se2=pd.Series([1,2,3,4],['usa','ger','italy','japan'])\n",
    "se2"
   ]
  },
  {
   "cell_type": "code",
   "execution_count": 94,
   "id": "d1271b57",
   "metadata": {},
   "outputs": [
    {
     "data": {
      "text/plain": [
       "ger      4.0\n",
       "italy    NaN\n",
       "japan    8.0\n",
       "usa      2.0\n",
       "ussr     NaN\n",
       "dtype: float64"
      ]
     },
     "execution_count": 94,
     "metadata": {},
     "output_type": "execute_result"
    }
   ],
   "source": [
    "se1+se2"
   ]
  },
  {
   "cell_type": "code",
   "execution_count": 100,
   "id": "98d38c00",
   "metadata": {},
   "outputs": [
    {
     "ename": "NameError",
     "evalue": "name 'randn' is not defined",
     "output_type": "error",
     "traceback": [
      "\u001b[1;31m---------------------------------------------------------------------------\u001b[0m",
      "\u001b[1;31mNameError\u001b[0m                                 Traceback (most recent call last)",
      "Cell \u001b[1;32mIn[100], line 2\u001b[0m\n\u001b[0;32m      1\u001b[0m \u001b[38;5;28;01mimport\u001b[39;00m \u001b[38;5;21;01mrandom\u001b[39;00m\n\u001b[1;32m----> 2\u001b[0m df\u001b[38;5;241m=\u001b[39mpd\u001b[38;5;241m.\u001b[39mDataFrame(randn(\u001b[38;5;241m5\u001b[39m,\u001b[38;5;241m4\u001b[39m),[\u001b[38;5;124m'\u001b[39m\u001b[38;5;124ma\u001b[39m\u001b[38;5;124m'\u001b[39m,\u001b[38;5;124m'\u001b[39m\u001b[38;5;124mb\u001b[39m\u001b[38;5;124m'\u001b[39m,\u001b[38;5;124m'\u001b[39m\u001b[38;5;124mc\u001b[39m\u001b[38;5;124m'\u001b[39m,\u001b[38;5;124m'\u001b[39m\u001b[38;5;124md\u001b[39m\u001b[38;5;124m'\u001b[39m,\u001b[38;5;124m'\u001b[39m\u001b[38;5;124me\u001b[39m\u001b[38;5;124m'\u001b[39m],[\u001b[38;5;124m'\u001b[39m\u001b[38;5;124mw\u001b[39m\u001b[38;5;124m'\u001b[39m,\u001b[38;5;124m'\u001b[39m\u001b[38;5;124mx\u001b[39m\u001b[38;5;124m'\u001b[39m,\u001b[38;5;124m'\u001b[39m\u001b[38;5;124my\u001b[39m\u001b[38;5;124m'\u001b[39m,\u001b[38;5;124m'\u001b[39m\u001b[38;5;124mz\u001b[39m\u001b[38;5;124m'\u001b[39m])\n\u001b[0;32m      3\u001b[0m df\n",
      "\u001b[1;31mNameError\u001b[0m: name 'randn' is not defined"
     ]
    }
   ],
   "source": [
    "import random\n",
    "df=pd.DataFrame(randn(5,4),['a','b','c','d','e'],['w','x','y','z'])\n",
    "df"
   ]
  },
  {
   "cell_type": "code",
   "execution_count": 101,
   "id": "7d47ce5e",
   "metadata": {},
   "outputs": [
    {
     "data": {
      "text/html": [
       "<div>\n",
       "<style scoped>\n",
       "    .dataframe tbody tr th:only-of-type {\n",
       "        vertical-align: middle;\n",
       "    }\n",
       "\n",
       "    .dataframe tbody tr th {\n",
       "        vertical-align: top;\n",
       "    }\n",
       "\n",
       "    .dataframe thead th {\n",
       "        text-align: right;\n",
       "    }\n",
       "</style>\n",
       "<table border=\"1\" class=\"dataframe\">\n",
       "  <thead>\n",
       "    <tr style=\"text-align: right;\">\n",
       "      <th></th>\n",
       "      <th>w</th>\n",
       "      <th>x</th>\n",
       "      <th>y</th>\n",
       "      <th>z</th>\n",
       "    </tr>\n",
       "  </thead>\n",
       "  <tbody>\n",
       "    <tr>\n",
       "      <th>a</th>\n",
       "      <td>1.332715</td>\n",
       "      <td>-0.182314</td>\n",
       "      <td>-0.516594</td>\n",
       "      <td>-0.073341</td>\n",
       "    </tr>\n",
       "    <tr>\n",
       "      <th>b</th>\n",
       "      <td>1.635154</td>\n",
       "      <td>1.278869</td>\n",
       "      <td>-2.568177</td>\n",
       "      <td>1.919928</td>\n",
       "    </tr>\n",
       "    <tr>\n",
       "      <th>c</th>\n",
       "      <td>0.260661</td>\n",
       "      <td>-1.548909</td>\n",
       "      <td>-0.905891</td>\n",
       "      <td>0.060379</td>\n",
       "    </tr>\n",
       "    <tr>\n",
       "      <th>d</th>\n",
       "      <td>0.636807</td>\n",
       "      <td>-0.407096</td>\n",
       "      <td>0.865422</td>\n",
       "      <td>0.274494</td>\n",
       "    </tr>\n",
       "    <tr>\n",
       "      <th>e</th>\n",
       "      <td>1.264576</td>\n",
       "      <td>0.755189</td>\n",
       "      <td>0.033477</td>\n",
       "      <td>-0.671940</td>\n",
       "    </tr>\n",
       "  </tbody>\n",
       "</table>\n",
       "</div>"
      ],
      "text/plain": [
       "          w         x         y         z\n",
       "a  1.332715 -0.182314 -0.516594 -0.073341\n",
       "b  1.635154  1.278869 -2.568177  1.919928\n",
       "c  0.260661 -1.548909 -0.905891  0.060379\n",
       "d  0.636807 -0.407096  0.865422  0.274494\n",
       "e  1.264576  0.755189  0.033477 -0.671940"
      ]
     },
     "execution_count": 101,
     "metadata": {},
     "output_type": "execute_result"
    }
   ],
   "source": [
    "from numpy.random import randn\n",
    "df=pd.DataFrame(randn(5,4),['a','b','c','d','e'],['w','x','y','z'])\n",
    "df"
   ]
  },
  {
   "cell_type": "code",
   "execution_count": 103,
   "id": "3876ad5d",
   "metadata": {},
   "outputs": [
    {
     "data": {
      "text/html": [
       "<div>\n",
       "<style scoped>\n",
       "    .dataframe tbody tr th:only-of-type {\n",
       "        vertical-align: middle;\n",
       "    }\n",
       "\n",
       "    .dataframe tbody tr th {\n",
       "        vertical-align: top;\n",
       "    }\n",
       "\n",
       "    .dataframe thead th {\n",
       "        text-align: right;\n",
       "    }\n",
       "</style>\n",
       "<table border=\"1\" class=\"dataframe\">\n",
       "  <thead>\n",
       "    <tr style=\"text-align: right;\">\n",
       "      <th></th>\n",
       "      <th>w</th>\n",
       "      <th>x</th>\n",
       "      <th>y</th>\n",
       "      <th>z</th>\n",
       "    </tr>\n",
       "  </thead>\n",
       "  <tbody>\n",
       "    <tr>\n",
       "      <th>a</th>\n",
       "      <td>0.097779</td>\n",
       "      <td>-0.417047</td>\n",
       "      <td>0.338815</td>\n",
       "      <td>-1.060103</td>\n",
       "    </tr>\n",
       "    <tr>\n",
       "      <th>b</th>\n",
       "      <td>-0.755587</td>\n",
       "      <td>-0.251909</td>\n",
       "      <td>0.048968</td>\n",
       "      <td>-1.009570</td>\n",
       "    </tr>\n",
       "    <tr>\n",
       "      <th>c</th>\n",
       "      <td>-1.113341</td>\n",
       "      <td>0.174524</td>\n",
       "      <td>1.277938</td>\n",
       "      <td>1.556896</td>\n",
       "    </tr>\n",
       "    <tr>\n",
       "      <th>d</th>\n",
       "      <td>-0.038392</td>\n",
       "      <td>-0.230574</td>\n",
       "      <td>1.064417</td>\n",
       "      <td>0.223307</td>\n",
       "    </tr>\n",
       "    <tr>\n",
       "      <th>e</th>\n",
       "      <td>1.580641</td>\n",
       "      <td>-1.071816</td>\n",
       "      <td>1.893380</td>\n",
       "      <td>-2.060044</td>\n",
       "    </tr>\n",
       "  </tbody>\n",
       "</table>\n",
       "</div>"
      ],
      "text/plain": [
       "          w         x         y         z\n",
       "a  0.097779 -0.417047  0.338815 -1.060103\n",
       "b -0.755587 -0.251909  0.048968 -1.009570\n",
       "c -1.113341  0.174524  1.277938  1.556896\n",
       "d -0.038392 -0.230574  1.064417  0.223307\n",
       "e  1.580641 -1.071816  1.893380 -2.060044"
      ]
     },
     "execution_count": 103,
     "metadata": {},
     "output_type": "execute_result"
    }
   ],
   "source": [
    "df=pd.DataFrame(randn(5,4),['a','b','c','d','e'],['w','x','y','z'])\n",
    "df"
   ]
  },
  {
   "cell_type": "code",
   "execution_count": 99,
   "id": "c9ec01bf",
   "metadata": {},
   "outputs": [
    {
     "ename": "NameError",
     "evalue": "name 'randn' is not defined",
     "output_type": "error",
     "traceback": [
      "\u001b[1;31m---------------------------------------------------------------------------\u001b[0m",
      "\u001b[1;31mNameError\u001b[0m                                 Traceback (most recent call last)",
      "Cell \u001b[1;32mIn[99], line 1\u001b[0m\n\u001b[1;32m----> 1\u001b[0m df\u001b[38;5;241m=\u001b[39mpd\u001b[38;5;241m.\u001b[39mDataFrame(randn(\u001b[38;5;241m5\u001b[39m,\u001b[38;5;241m4\u001b[39m),[\u001b[38;5;124m'\u001b[39m\u001b[38;5;124ma\u001b[39m\u001b[38;5;124m'\u001b[39m,\u001b[38;5;124m'\u001b[39m\u001b[38;5;124mb\u001b[39m\u001b[38;5;124m'\u001b[39m,\u001b[38;5;124m'\u001b[39m\u001b[38;5;124mc\u001b[39m\u001b[38;5;124m'\u001b[39m,\u001b[38;5;124m'\u001b[39m\u001b[38;5;124md\u001b[39m\u001b[38;5;124m'\u001b[39m,\u001b[38;5;124m'\u001b[39m\u001b[38;5;124me\u001b[39m\u001b[38;5;124m'\u001b[39m],[\u001b[38;5;124m'\u001b[39m\u001b[38;5;124mw\u001b[39m\u001b[38;5;124m'\u001b[39m,\u001b[38;5;124m'\u001b[39m\u001b[38;5;124mx\u001b[39m\u001b[38;5;124m'\u001b[39m,\u001b[38;5;124m'\u001b[39m\u001b[38;5;124my\u001b[39m\u001b[38;5;124m'\u001b[39m,\u001b[38;5;124m'\u001b[39m\u001b[38;5;124mz\u001b[39m\u001b[38;5;124m'\u001b[39m])\n\u001b[0;32m      2\u001b[0m df\n",
      "\u001b[1;31mNameError\u001b[0m: name 'randn' is not defined"
     ]
    }
   ],
   "source": [
    "df=pd.DataFrame(randn(5,4),['a','b','c','d','e'],['w','x','y','z'])\n",
    "df"
   ]
  },
  {
   "cell_type": "code",
   "execution_count": 97,
   "id": "b69acdb0",
   "metadata": {},
   "outputs": [
    {
     "ename": "NameError",
     "evalue": "name 'randn' is not defined",
     "output_type": "error",
     "traceback": [
      "\u001b[1;31m---------------------------------------------------------------------------\u001b[0m",
      "\u001b[1;31mNameError\u001b[0m                                 Traceback (most recent call last)",
      "Cell \u001b[1;32mIn[97], line 1\u001b[0m\n\u001b[1;32m----> 1\u001b[0m df\u001b[38;5;241m=\u001b[39mpd\u001b[38;5;241m.\u001b[39mDataFrame(randn(\u001b[38;5;241m5\u001b[39m,\u001b[38;5;241m4\u001b[39m),[\u001b[38;5;124m'\u001b[39m\u001b[38;5;124ma\u001b[39m\u001b[38;5;124m'\u001b[39m,\u001b[38;5;124m'\u001b[39m\u001b[38;5;124mb\u001b[39m\u001b[38;5;124m'\u001b[39m,\u001b[38;5;124m'\u001b[39m\u001b[38;5;124mc\u001b[39m\u001b[38;5;124m'\u001b[39m,\u001b[38;5;124m'\u001b[39m\u001b[38;5;124md\u001b[39m\u001b[38;5;124m'\u001b[39m,\u001b[38;5;124m'\u001b[39m\u001b[38;5;124me\u001b[39m\u001b[38;5;124m'\u001b[39m],[\u001b[38;5;124m'\u001b[39m\u001b[38;5;124mw\u001b[39m\u001b[38;5;124m'\u001b[39m,\u001b[38;5;124m'\u001b[39m\u001b[38;5;124mx\u001b[39m\u001b[38;5;124m'\u001b[39m,\u001b[38;5;124m'\u001b[39m\u001b[38;5;124my\u001b[39m\u001b[38;5;124m'\u001b[39m,\u001b[38;5;124m'\u001b[39m\u001b[38;5;124mz\u001b[39m\u001b[38;5;124m'\u001b[39m])\n\u001b[0;32m      2\u001b[0m df\n",
      "\u001b[1;31mNameError\u001b[0m: name 'randn' is not defined"
     ]
    }
   ],
   "source": [
    "df=pd.DataFrame(randn(5,4),['a','b','c','d','e'],['w','x','y','z'])\n",
    "df"
   ]
  },
  {
   "cell_type": "code",
   "execution_count": 108,
   "id": "928e692c",
   "metadata": {},
   "outputs": [
    {
     "name": "stdout",
     "output_type": "stream",
     "text": [
      "total salary for Sheethal is 25000\n",
      "da is .....6250.0\n",
      "tz is .....3750.0\n",
      "hra is .....4000.0\n",
      "cca is .....500.0\n",
      "lic is .....1250.0\n",
      "ma is .....1250.0\n",
      "net salary for ...Sheethal is 17000.0\n",
      "total salary for Sonu is 28000\n",
      "da is .....7000.0\n",
      "tz is .....4200.0\n",
      "hra is .....4480.0\n",
      "cca is .....560.0\n",
      "lic is .....1400.0\n",
      "ma is .....1400.0\n",
      "net salary for ...Sonu is 19040.0\n",
      "total salary for Sandeep is 100000\n",
      "da is .....25000.0\n",
      "tz is .....15000.0\n",
      "hra is .....16000.0\n",
      "cca is .....2000.0\n",
      "lic is .....5000.0\n",
      "ma is .....5000.0\n",
      "net salary for ...Sandeep is 68000.0\n",
      "total salary for Manoj is 65000\n",
      "da is .....16250.0\n",
      "tz is .....9750.0\n",
      "hra is .....10400.0\n",
      "cca is .....1300.0\n",
      "lic is .....3250.0\n",
      "ma is .....3250.0\n",
      "net salary for ...Manoj is 44200.0\n",
      "total salary for Prasanna is 15000\n",
      "da is .....3750.0\n",
      "tz is .....2250.0\n",
      "hra is .....2400.0\n",
      "cca is .....300.0\n",
      "lic is .....750.0\n",
      "ma is .....750.0\n",
      "net salary for ...Prasanna is 10200.0\n",
      "total salary for Priyanka is 20000\n",
      "da is .....5000.0\n",
      "tz is .....3000.0\n",
      "hra is .....3200.0\n",
      "cca is .....400.0\n",
      "lic is .....1000.0\n",
      "ma is .....1000.0\n",
      "net salary for ...Priyanka is 13600.0\n",
      "total salary for Shravanthi is 28000\n",
      "da is .....7000.0\n",
      "tz is .....4200.0\n",
      "hra is .....4480.0\n",
      "cca is .....560.0\n",
      "lic is .....1400.0\n",
      "ma is .....1400.0\n",
      "net salary for ...Shravanthi is 19040.0\n",
      "total salary for Yamini is 19000\n",
      "da is .....4750.0\n",
      "tz is .....2850.0\n",
      "hra is .....3040.0\n",
      "cca is .....380.0\n",
      "lic is .....950.0\n",
      "ma is .....950.0\n",
      "net salary for ...Yamini is 12920.0\n",
      "total salary for Chaitanya is 25000\n",
      "da is .....6250.0\n",
      "tz is .....3750.0\n",
      "hra is .....4000.0\n",
      "cca is .....500.0\n",
      "lic is .....1250.0\n",
      "ma is .....1250.0\n",
      "net salary for ...Chaitanya is 17000.0\n",
      "total salary for Leela Krishna is 26000\n",
      "da is .....6500.0\n",
      "tz is .....3900.0\n",
      "hra is .....4160.0\n",
      "cca is .....520.0\n",
      "lic is .....1300.0\n",
      "ma is .....1300.0\n",
      "net salary for ...Leela Krishna is 17680.0\n",
      "total salary for Mahender is 60000\n",
      "da is .....15000.0\n",
      "tz is .....9000.0\n",
      "hra is .....9600.0\n",
      "cca is .....1200.0\n",
      "lic is .....3000.0\n",
      "ma is .....3000.0\n",
      "net salary for ...Mahender is 40800.0\n",
      "total salary for Yelishetty Shankar is 100000\n",
      "da is .....25000.0\n",
      "tz is .....15000.0\n",
      "hra is .....16000.0\n",
      "cca is .....2000.0\n",
      "lic is .....5000.0\n",
      "ma is .....5000.0\n",
      "net salary for ...Yelishetty Shankar is 68000.0\n",
      "total salary for Swapna is 23000\n",
      "da is .....5750.0\n",
      "tz is .....3450.0\n",
      "hra is .....3680.0\n",
      "cca is .....460.0\n",
      "lic is .....1150.0\n",
      "ma is .....1150.0\n",
      "net salary for ...Swapna is 15640.0\n",
      "total salary for Nikhil is 25000\n",
      "da is .....6250.0\n",
      "tz is .....3750.0\n",
      "hra is .....4000.0\n",
      "cca is .....500.0\n",
      "lic is .....1250.0\n",
      "ma is .....1250.0\n",
      "net salary for ...Nikhil is 17000.0\n",
      "total salary for Sai Kumar is 30000\n",
      "da is .....7500.0\n",
      "tz is .....4500.0\n",
      "hra is .....4800.0\n",
      "cca is .....600.0\n",
      "lic is .....1500.0\n",
      "ma is .....1500.0\n",
      "net salary for ...Sai Kumar is 20400.0\n"
     ]
    }
   ],
   "source": [
    "f=open(\"F:\\data science\\DataSets-main\\emp12.csv\",'r')\n",
    "for x in f:\n",
    "    row=x.split(',')\n",
    "    salary=int(row[5])\n",
    "    print('total salary for ' + row[1] + ' is ' + str(salary))\n",
    "    \n",
    "    da=salary*0.25\n",
    "    print('da is .....'+str(da))\n",
    "    \n",
    "    tz=salary*0.15\n",
    "    print('tz is .....'+str(tz))\n",
    "    \n",
    "    hra=salary*0.16\n",
    "    print('hra is .....'+str(hra))\n",
    "    \n",
    "    cca=salary*0.02\n",
    "    print('cca is .....'+str(cca))\n",
    "    \n",
    "    \n",
    "    lic=salary*0.05\n",
    "    print('lic is .....'+str(lic))\n",
    "    \n",
    "    ma=salary*0.05\n",
    "    print('ma is .....'+str(ma))\n",
    "    \n",
    "    net_sal=da+tz+hra+cca+lic+ma\n",
    "    print('net salary for ...'+row[1] +' is '+str(net_sal))\n",
    "    \n",
    "    \n",
    "    "
   ]
  },
  {
   "cell_type": "code",
   "execution_count": null,
   "id": "48f83a4f",
   "metadata": {},
   "outputs": [],
   "source": []
  },
  {
   "cell_type": "code",
   "execution_count": null,
   "id": "b0cb062f",
   "metadata": {},
   "outputs": [],
   "source": []
  },
  {
   "cell_type": "code",
   "execution_count": null,
   "id": "0dbb894f",
   "metadata": {},
   "outputs": [],
   "source": []
  },
  {
   "cell_type": "code",
   "execution_count": null,
   "id": "bd6c48ee",
   "metadata": {},
   "outputs": [],
   "source": []
  },
  {
   "cell_type": "code",
   "execution_count": null,
   "id": "97c96aa6",
   "metadata": {},
   "outputs": [],
   "source": []
  },
  {
   "cell_type": "code",
   "execution_count": null,
   "id": "8b93e91d",
   "metadata": {},
   "outputs": [],
   "source": []
  },
  {
   "cell_type": "code",
   "execution_count": null,
   "id": "054d3328",
   "metadata": {},
   "outputs": [],
   "source": []
  },
  {
   "cell_type": "code",
   "execution_count": 83,
   "id": "c760f741",
   "metadata": {},
   "outputs": [
    {
     "ename": "NameError",
     "evalue": "name 'my_data' is not defined",
     "output_type": "error",
     "traceback": [
      "\u001b[1;31m---------------------------------------------------------------------------\u001b[0m",
      "\u001b[1;31mNameError\u001b[0m                                 Traceback (most recent call last)",
      "Cell \u001b[1;32mIn[83], line 1\u001b[0m\n\u001b[1;32m----> 1\u001b[0m pd\u001b[38;5;241m.\u001b[39mSeries(data\u001b[38;5;241m=\u001b[39mmy_data)\n",
      "\u001b[1;31mNameError\u001b[0m: name 'my_data' is not defined"
     ]
    }
   ],
   "source": [
    "pd.Series(data=my_data)"
   ]
  },
  {
   "cell_type": "code",
   "execution_count": null,
   "id": "41506130",
   "metadata": {},
   "outputs": [],
   "source": []
  },
  {
   "cell_type": "code",
   "execution_count": null,
   "id": "ec0f3332",
   "metadata": {},
   "outputs": [],
   "source": []
  },
  {
   "cell_type": "code",
   "execution_count": null,
   "id": "c6bba8fa",
   "metadata": {},
   "outputs": [],
   "source": []
  },
  {
   "cell_type": "code",
   "execution_count": null,
   "id": "21613e07",
   "metadata": {},
   "outputs": [],
   "source": []
  },
  {
   "cell_type": "code",
   "execution_count": null,
   "id": "52fac162",
   "metadata": {},
   "outputs": [],
   "source": []
  },
  {
   "cell_type": "code",
   "execution_count": null,
   "id": "e20512e5",
   "metadata": {},
   "outputs": [],
   "source": []
  },
  {
   "cell_type": "code",
   "execution_count": null,
   "id": "b03f230a",
   "metadata": {},
   "outputs": [],
   "source": []
  },
  {
   "cell_type": "code",
   "execution_count": null,
   "id": "52352459",
   "metadata": {},
   "outputs": [],
   "source": []
  },
  {
   "cell_type": "code",
   "execution_count": null,
   "id": "a6c725f5",
   "metadata": {},
   "outputs": [],
   "source": []
  },
  {
   "cell_type": "code",
   "execution_count": null,
   "id": "8efd296c",
   "metadata": {},
   "outputs": [],
   "source": []
  },
  {
   "cell_type": "code",
   "execution_count": null,
   "id": "00d9a3ce",
   "metadata": {},
   "outputs": [],
   "source": []
  },
  {
   "cell_type": "code",
   "execution_count": null,
   "id": "9d7749a5",
   "metadata": {},
   "outputs": [],
   "source": []
  },
  {
   "cell_type": "code",
   "execution_count": null,
   "id": "589cd456",
   "metadata": {},
   "outputs": [],
   "source": []
  },
  {
   "cell_type": "code",
   "execution_count": null,
   "id": "1ab71f3b",
   "metadata": {},
   "outputs": [],
   "source": []
  },
  {
   "cell_type": "code",
   "execution_count": null,
   "id": "7908174f",
   "metadata": {},
   "outputs": [],
   "source": []
  },
  {
   "cell_type": "code",
   "execution_count": null,
   "id": "a304bbb2",
   "metadata": {},
   "outputs": [],
   "source": []
  },
  {
   "cell_type": "code",
   "execution_count": null,
   "id": "780b6d51",
   "metadata": {},
   "outputs": [],
   "source": []
  },
  {
   "cell_type": "code",
   "execution_count": null,
   "id": "2f3f4fa8",
   "metadata": {},
   "outputs": [],
   "source": []
  },
  {
   "cell_type": "code",
   "execution_count": null,
   "id": "fe469d31",
   "metadata": {},
   "outputs": [],
   "source": []
  },
  {
   "cell_type": "code",
   "execution_count": null,
   "id": "9ea0bd78",
   "metadata": {},
   "outputs": [],
   "source": []
  },
  {
   "cell_type": "code",
   "execution_count": null,
   "id": "70304742",
   "metadata": {},
   "outputs": [],
   "source": []
  },
  {
   "cell_type": "code",
   "execution_count": null,
   "id": "dee78c9e",
   "metadata": {},
   "outputs": [],
   "source": []
  },
  {
   "cell_type": "code",
   "execution_count": null,
   "id": "bae5f592",
   "metadata": {},
   "outputs": [],
   "source": []
  },
  {
   "cell_type": "code",
   "execution_count": null,
   "id": "94b5af10",
   "metadata": {},
   "outputs": [],
   "source": []
  },
  {
   "cell_type": "code",
   "execution_count": null,
   "id": "a8f65a55",
   "metadata": {},
   "outputs": [],
   "source": []
  },
  {
   "cell_type": "code",
   "execution_count": null,
   "id": "c0a295a2",
   "metadata": {},
   "outputs": [],
   "source": []
  },
  {
   "cell_type": "code",
   "execution_count": null,
   "id": "2e8171ea",
   "metadata": {},
   "outputs": [],
   "source": []
  },
  {
   "cell_type": "code",
   "execution_count": null,
   "id": "deb2acbb",
   "metadata": {},
   "outputs": [],
   "source": []
  },
  {
   "cell_type": "code",
   "execution_count": null,
   "id": "5d3fb421",
   "metadata": {},
   "outputs": [],
   "source": []
  },
  {
   "cell_type": "code",
   "execution_count": null,
   "id": "106c3b36",
   "metadata": {},
   "outputs": [],
   "source": []
  },
  {
   "cell_type": "code",
   "execution_count": null,
   "id": "516cbe64",
   "metadata": {},
   "outputs": [],
   "source": []
  },
  {
   "cell_type": "code",
   "execution_count": null,
   "id": "b6bb23b7",
   "metadata": {},
   "outputs": [],
   "source": []
  },
  {
   "cell_type": "code",
   "execution_count": null,
   "id": "168d5073",
   "metadata": {},
   "outputs": [],
   "source": []
  },
  {
   "cell_type": "code",
   "execution_count": null,
   "id": "f9de77d3",
   "metadata": {},
   "outputs": [],
   "source": []
  },
  {
   "cell_type": "code",
   "execution_count": null,
   "id": "cd897a9f",
   "metadata": {},
   "outputs": [],
   "source": []
  }
 ],
 "metadata": {
  "kernelspec": {
   "display_name": "Python 3 (ipykernel)",
   "language": "python",
   "name": "python3"
  },
  "language_info": {
   "codemirror_mode": {
    "name": "ipython",
    "version": 3
   },
   "file_extension": ".py",
   "mimetype": "text/x-python",
   "name": "python",
   "nbconvert_exporter": "python",
   "pygments_lexer": "ipython3",
   "version": "3.11.4"
  }
 },
 "nbformat": 4,
 "nbformat_minor": 5
}
